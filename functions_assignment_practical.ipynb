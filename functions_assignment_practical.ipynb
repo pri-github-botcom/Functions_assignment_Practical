{
  "nbformat": 4,
  "nbformat_minor": 0,
  "metadata": {
    "colab": {
      "provenance": []
    },
    "kernelspec": {
      "name": "python3",
      "display_name": "Python 3"
    },
    "language_info": {
      "name": "python"
    }
  },
  "cells": [
    {
      "cell_type": "markdown",
      "source": [
        "#1) Write a Python function that takes a list of numbers and returns the sum of all even numbers in the list.\n",
        "\n",
        "Solution:"
      ],
      "metadata": {
        "id": "a5LgNLmfECFg"
      }
    },
    {
      "cell_type": "code",
      "source": [
        "def sum_of_even_numbers(numbers):\n",
        "  return sum(num for num in numbers if num % 2 == 0)\n",
        "\n",
        "numbers = [1,2,3,4,5,6,7,8,9]\n",
        "print(sum_of_even_numbers(numbers))"
      ],
      "metadata": {
        "colab": {
          "base_uri": "https://localhost:8080/"
        },
        "id": "r8WIHqYsFaV_",
        "outputId": "3498ec45-0412-49f7-ccaa-4fd6c66291be"
      },
      "execution_count": null,
      "outputs": [
        {
          "output_type": "stream",
          "name": "stdout",
          "text": [
            "20\n"
          ]
        }
      ]
    },
    {
      "cell_type": "markdown",
      "source": [
        "# 2) Create a Python function that accepts a string and reverse of that string.\n",
        "\n",
        "Solution:"
      ],
      "metadata": {
        "id": "Db4z4neVFbCN"
      }
    },
    {
      "cell_type": "code",
      "source": [
        "string_input = input(\"Enter a string\")\n",
        "reversed_string = string_input[::-1]\n",
        "print(\"reverse string:\", reversed_string)"
      ],
      "metadata": {
        "colab": {
          "base_uri": "https://localhost:8080/"
        },
        "id": "a7e6mIT7F2Fy",
        "outputId": "7eb06f4c-20aa-41be-ef95-b557a0bdf7c8"
      },
      "execution_count": null,
      "outputs": [
        {
          "output_type": "stream",
          "name": "stdout",
          "text": [
            "Enter a stringIndian Community\n",
            "reverse string: ytinummoC naidnI\n"
          ]
        }
      ]
    },
    {
      "cell_type": "markdown",
      "source": [
        "# 3) Implement a Python function that takes a list of integers and returns a new list containing the squares of each number in the list.\n",
        "\n",
        "Solution:"
      ],
      "metadata": {
        "id": "dkIuKGdQF3lE"
      }
    },
    {
      "cell_type": "code",
      "source": [
        "sq_lambda = lambda x:x**2\n",
        "numbers = [1,2,3,4,5]\n",
        "squares = list(map(sq_lambda, numbers))\n",
        "print(squares)"
      ],
      "metadata": {
        "colab": {
          "base_uri": "https://localhost:8080/"
        },
        "id": "7_YuD91lGTqX",
        "outputId": "8631669e-b416-4867-9635-971f3e31084c"
      },
      "execution_count": null,
      "outputs": [
        {
          "output_type": "stream",
          "name": "stdout",
          "text": [
            "[1, 4, 9, 16, 25]\n"
          ]
        }
      ]
    },
    {
      "cell_type": "markdown",
      "source": [
        "# 4) Write a Python function that checks if a given number is prime or not from 1 to 200.\n",
        "\n",
        "Solution:"
      ],
      "metadata": {
        "id": "T0iDHLiKGVKc"
      }
    },
    {
      "cell_type": "code",
      "source": [
        "def prime_number(num):\n",
        "  if num< 1:\n",
        "    return False\n",
        "  for i in range (2, int(num ** 0.5)+ 1):\n",
        "      if num % i == 0:\n",
        "        return False\n",
        "  return True\n",
        "for num in range(1,200):\n",
        "    if prime_number(num):\n",
        "      print(f\"{num} is a prime number\")\n",
        "    else:\n",
        "      print(f\"{num} is not a prime number\")"
      ],
      "metadata": {
        "id": "eAyr_ILgvbBM",
        "colab": {
          "base_uri": "https://localhost:8080/"
        },
        "outputId": "1bb8a981-7bc7-496b-8fb7-a3eea7b457f2"
      },
      "execution_count": null,
      "outputs": [
        {
          "output_type": "stream",
          "name": "stdout",
          "text": [
            "1 is a prime number\n",
            "2 is a prime number\n",
            "3 is a prime number\n",
            "4 is not a prime number\n",
            "5 is a prime number\n",
            "6 is not a prime number\n",
            "7 is a prime number\n",
            "8 is not a prime number\n",
            "9 is not a prime number\n",
            "10 is not a prime number\n",
            "11 is a prime number\n",
            "12 is not a prime number\n",
            "13 is a prime number\n",
            "14 is not a prime number\n",
            "15 is not a prime number\n",
            "16 is not a prime number\n",
            "17 is a prime number\n",
            "18 is not a prime number\n",
            "19 is a prime number\n",
            "20 is not a prime number\n",
            "21 is not a prime number\n",
            "22 is not a prime number\n",
            "23 is a prime number\n",
            "24 is not a prime number\n",
            "25 is not a prime number\n",
            "26 is not a prime number\n",
            "27 is not a prime number\n",
            "28 is not a prime number\n",
            "29 is a prime number\n",
            "30 is not a prime number\n",
            "31 is a prime number\n",
            "32 is not a prime number\n",
            "33 is not a prime number\n",
            "34 is not a prime number\n",
            "35 is not a prime number\n",
            "36 is not a prime number\n",
            "37 is a prime number\n",
            "38 is not a prime number\n",
            "39 is not a prime number\n",
            "40 is not a prime number\n",
            "41 is a prime number\n",
            "42 is not a prime number\n",
            "43 is a prime number\n",
            "44 is not a prime number\n",
            "45 is not a prime number\n",
            "46 is not a prime number\n",
            "47 is a prime number\n",
            "48 is not a prime number\n",
            "49 is not a prime number\n",
            "50 is not a prime number\n",
            "51 is not a prime number\n",
            "52 is not a prime number\n",
            "53 is a prime number\n",
            "54 is not a prime number\n",
            "55 is not a prime number\n",
            "56 is not a prime number\n",
            "57 is not a prime number\n",
            "58 is not a prime number\n",
            "59 is a prime number\n",
            "60 is not a prime number\n",
            "61 is a prime number\n",
            "62 is not a prime number\n",
            "63 is not a prime number\n",
            "64 is not a prime number\n",
            "65 is not a prime number\n",
            "66 is not a prime number\n",
            "67 is a prime number\n",
            "68 is not a prime number\n",
            "69 is not a prime number\n",
            "70 is not a prime number\n",
            "71 is a prime number\n",
            "72 is not a prime number\n",
            "73 is a prime number\n",
            "74 is not a prime number\n",
            "75 is not a prime number\n",
            "76 is not a prime number\n",
            "77 is not a prime number\n",
            "78 is not a prime number\n",
            "79 is a prime number\n",
            "80 is not a prime number\n",
            "81 is not a prime number\n",
            "82 is not a prime number\n",
            "83 is a prime number\n",
            "84 is not a prime number\n",
            "85 is not a prime number\n",
            "86 is not a prime number\n",
            "87 is not a prime number\n",
            "88 is not a prime number\n",
            "89 is a prime number\n",
            "90 is not a prime number\n",
            "91 is not a prime number\n",
            "92 is not a prime number\n",
            "93 is not a prime number\n",
            "94 is not a prime number\n",
            "95 is not a prime number\n",
            "96 is not a prime number\n",
            "97 is a prime number\n",
            "98 is not a prime number\n",
            "99 is not a prime number\n",
            "100 is not a prime number\n",
            "101 is a prime number\n",
            "102 is not a prime number\n",
            "103 is a prime number\n",
            "104 is not a prime number\n",
            "105 is not a prime number\n",
            "106 is not a prime number\n",
            "107 is a prime number\n",
            "108 is not a prime number\n",
            "109 is a prime number\n",
            "110 is not a prime number\n",
            "111 is not a prime number\n",
            "112 is not a prime number\n",
            "113 is a prime number\n",
            "114 is not a prime number\n",
            "115 is not a prime number\n",
            "116 is not a prime number\n",
            "117 is not a prime number\n",
            "118 is not a prime number\n",
            "119 is not a prime number\n",
            "120 is not a prime number\n",
            "121 is not a prime number\n",
            "122 is not a prime number\n",
            "123 is not a prime number\n",
            "124 is not a prime number\n",
            "125 is not a prime number\n",
            "126 is not a prime number\n",
            "127 is a prime number\n",
            "128 is not a prime number\n",
            "129 is not a prime number\n",
            "130 is not a prime number\n",
            "131 is a prime number\n",
            "132 is not a prime number\n",
            "133 is not a prime number\n",
            "134 is not a prime number\n",
            "135 is not a prime number\n",
            "136 is not a prime number\n",
            "137 is a prime number\n",
            "138 is not a prime number\n",
            "139 is a prime number\n",
            "140 is not a prime number\n",
            "141 is not a prime number\n",
            "142 is not a prime number\n",
            "143 is not a prime number\n",
            "144 is not a prime number\n",
            "145 is not a prime number\n",
            "146 is not a prime number\n",
            "147 is not a prime number\n",
            "148 is not a prime number\n",
            "149 is a prime number\n",
            "150 is not a prime number\n",
            "151 is a prime number\n",
            "152 is not a prime number\n",
            "153 is not a prime number\n",
            "154 is not a prime number\n",
            "155 is not a prime number\n",
            "156 is not a prime number\n",
            "157 is a prime number\n",
            "158 is not a prime number\n",
            "159 is not a prime number\n",
            "160 is not a prime number\n",
            "161 is not a prime number\n",
            "162 is not a prime number\n",
            "163 is a prime number\n",
            "164 is not a prime number\n",
            "165 is not a prime number\n",
            "166 is not a prime number\n",
            "167 is a prime number\n",
            "168 is not a prime number\n",
            "169 is not a prime number\n",
            "170 is not a prime number\n",
            "171 is not a prime number\n",
            "172 is not a prime number\n",
            "173 is a prime number\n",
            "174 is not a prime number\n",
            "175 is not a prime number\n",
            "176 is not a prime number\n",
            "177 is not a prime number\n",
            "178 is not a prime number\n",
            "179 is a prime number\n",
            "180 is not a prime number\n",
            "181 is a prime number\n",
            "182 is not a prime number\n",
            "183 is not a prime number\n",
            "184 is not a prime number\n",
            "185 is not a prime number\n",
            "186 is not a prime number\n",
            "187 is not a prime number\n",
            "188 is not a prime number\n",
            "189 is not a prime number\n",
            "190 is not a prime number\n",
            "191 is a prime number\n",
            "192 is not a prime number\n",
            "193 is a prime number\n",
            "194 is not a prime number\n",
            "195 is not a prime number\n",
            "196 is not a prime number\n",
            "197 is a prime number\n",
            "198 is not a prime number\n",
            "199 is a prime number\n"
          ]
        }
      ]
    },
    {
      "cell_type": "markdown",
      "source": [
        "#5) Create an iterator class in Python that generates the Fibonacci sequence up to a specified number of terms.\n",
        "\n",
        "Solution:"
      ],
      "metadata": {
        "id": "A0Wx0zJ0Gz3T"
      }
    },
    {
      "cell_type": "code",
      "source": [
        "\n",
        "class Fibonacci:\n",
        "  def __init__(self, n):\n",
        "    self.n = n\n",
        "    self.a, self.b = 0,1\n",
        "    self.count = 0\n",
        "  def __iter__(self):\n",
        "    return self\n",
        "\n",
        "  def __next__(self):\n",
        "    if self.count < self.n:\n",
        "      fib = self.a\n",
        "      self.a, self.b = self.b, self.a + self.b\n",
        "      self.count +=1\n",
        "      return fib\n",
        "    else:\n",
        "      raise StopIteration\n",
        "\n",
        "fib_sequence = Fibonacci(15)\n",
        "for num in fib_sequence:print(num)"
      ],
      "metadata": {
        "colab": {
          "base_uri": "https://localhost:8080/"
        },
        "id": "YbuiuEt9LVsN",
        "outputId": "9a5fade8-a4b7-4780-e950-f84c6a39b0dd"
      },
      "execution_count": null,
      "outputs": [
        {
          "output_type": "stream",
          "name": "stdout",
          "text": [
            "0\n",
            "1\n",
            "1\n",
            "2\n",
            "3\n",
            "5\n",
            "8\n",
            "13\n",
            "21\n",
            "34\n",
            "55\n",
            "89\n",
            "144\n",
            "233\n",
            "377\n"
          ]
        }
      ]
    },
    {
      "cell_type": "markdown",
      "source": [
        "#6) Write a generator function in Python that generates the power of 2 upto a given exoponant.\n",
        "\n",
        "Solution:"
      ],
      "metadata": {
        "id": "CyMgCTn_HbTg"
      }
    },
    {
      "cell_type": "code",
      "source": [
        "def power_of_2(exponent):\n",
        "  for i in range(exponent +1):\n",
        "    yield 2 ** i\n",
        "for power in power_of_2(15):\n",
        "  print(power)"
      ],
      "metadata": {
        "colab": {
          "base_uri": "https://localhost:8080/"
        },
        "id": "GcNY28LTHfT2",
        "outputId": "6adb45c6-68ac-4f9d-df7f-3b72950992a5"
      },
      "execution_count": null,
      "outputs": [
        {
          "output_type": "stream",
          "name": "stdout",
          "text": [
            "1\n",
            "2\n",
            "4\n",
            "8\n",
            "16\n",
            "32\n",
            "64\n",
            "128\n",
            "256\n",
            "512\n",
            "1024\n",
            "2048\n",
            "4096\n",
            "8192\n",
            "16384\n",
            "32768\n"
          ]
        }
      ]
    },
    {
      "cell_type": "markdown",
      "source": [
        "#7) Implement a generator function that reads a file line by line and yields each line as a string.\n",
        "\n",
        "Solution:"
      ],
      "metadata": {
        "id": "0n_aoMVDH6w6"
      }
    },
    {
      "cell_type": "code",
      "source": [
        "file_path = 'C:/Data.txt'\n",
        "def read_file_line_by_line(file_path):\n",
        "    with open(file_path, 'r') as file:\n",
        "    for line in file:\n",
        "      yield line.strip()\n",
        "for line in read_file_line_by_line(file_path):\n",
        "  print(line)"
      ],
      "metadata": {
        "id": "NYXbyiNJb-gC"
      },
      "execution_count": null,
      "outputs": []
    },
    {
      "cell_type": "markdown",
      "source": [
        "#8) Use a lambda function in Python to sort a list of tuples based on the second element of each tuple.\n",
        "\n",
        "Solution:"
      ],
      "metadata": {
        "id": "23WsGD_YIcp6"
      }
    },
    {
      "cell_type": "code",
      "source": [
        "tuples_list = [(1,3), (2,1), (4,2), (5,4)]\n",
        "sorted_list = sorted(tuples_list, key = lambda x: x[1])\n",
        "print(sorted_list)"
      ],
      "metadata": {
        "id": "DmGdO-8BI68Q",
        "colab": {
          "base_uri": "https://localhost:8080/"
        },
        "outputId": "da215690-4ba0-48da-b55c-e63d2019697c"
      },
      "execution_count": null,
      "outputs": [
        {
          "output_type": "stream",
          "name": "stdout",
          "text": [
            "[(2, 1), (4, 2), (1, 3), (5, 4)]\n"
          ]
        }
      ]
    },
    {
      "cell_type": "markdown",
      "source": [
        "#9) Write a Python program that use map() function to convert a list of temperatures from celsius to fahreneheit.\n",
        "\n",
        "Solution:"
      ],
      "metadata": {
        "id": "Er0CKzVFI8jF"
      }
    },
    {
      "cell_type": "code",
      "source": [
        "celsius_temp= [0, 20, 37, 100]\n",
        "fahrenheit_temp = list(map(lambda c:(9/5) * c + 32, celsius_temp))\n",
        "print(fahrenheit_temp)"
      ],
      "metadata": {
        "id": "njAwDt_-JnUP",
        "colab": {
          "base_uri": "https://localhost:8080/"
        },
        "outputId": "d72e7064-2e13-4f68-bccf-3d5ac327fa0b"
      },
      "execution_count": null,
      "outputs": [
        {
          "output_type": "stream",
          "name": "stdout",
          "text": [
            "[32.0, 68.0, 98.60000000000001, 212.0]\n"
          ]
        }
      ]
    },
    {
      "cell_type": "markdown",
      "source": [
        "#10) Create a Python program that uses filter() function to remove all the vowels from the given list.\n",
        "\n",
        "Solution:"
      ],
      "metadata": {
        "id": "bsjGcZ25JoPA"
      }
    },
    {
      "cell_type": "code",
      "source": [
        "alphabetical_list = ['a', 'n', 'a', 'p', 'l', 'e', 'y', 'o', 'u', 'c', 'a', 'n', 'e', 'a', 't', 'a', 'd', 'a', 'y']\n",
        "vowels = ['a', 'e', 'i', 'o', 'u']\n",
        "filtered_list = list(filter(lambda x: x.lower() not in vowels, alphabetical_list))\n",
        "print(filtered_list)"
      ],
      "metadata": {
        "id": "P_Z7PiV7J8BL",
        "colab": {
          "base_uri": "https://localhost:8080/"
        },
        "outputId": "d4502ed2-27e8-4ee1-90af-fd63cbf329a0"
      },
      "execution_count": null,
      "outputs": [
        {
          "output_type": "stream",
          "name": "stdout",
          "text": [
            "['n', 'p', 'l', 'y', 'c', 'n', 't', 'd', 'y']\n"
          ]
        }
      ]
    },
    {
      "cell_type": "markdown",
      "source": [
        "#Question 11:-\n",
        "\n",
        "Solution:-\n"
      ],
      "metadata": {
        "id": "z2HlKrYVPFK0"
      }
    },
    {
      "cell_type": "code",
      "source": [
        "orders = [(34587, \"Learning Python, Mark Lutz\", 4, 40.95), (98762, \"Programming Python, Mark Lutz\", 5, 56.80), (77226, \"Head First Python, Paul Berry\",3, 32.95), (88112, \"Einfuhrang in Python3, Bernd Klein\", 3,24.99)]\n",
        "result = list(map(lambda order: (order[0], order[2] * order[3] + 10) if order[2] * order[3] < 100 else (order[0], order[2] * order[3]), orders))\n",
        "print(result)\n"
      ],
      "metadata": {
        "colab": {
          "base_uri": "https://localhost:8080/"
        },
        "id": "WuMmWtYAsPRC",
        "outputId": "e2f03aff-2f81-408f-c5fd-9e0d0a93e3be"
      },
      "execution_count": null,
      "outputs": [
        {
          "output_type": "stream",
          "name": "stdout",
          "text": [
            "[(34587, 163.8), (98762, 284.0), (77226, 108.85000000000001), (88112, 84.97)]\n"
          ]
        }
      ]
    }
  ]
}